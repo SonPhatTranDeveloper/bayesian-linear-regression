{
 "cells": [
  {
   "cell_type": "markdown",
   "source": [
    "# Linear Regression with Stochastic Gradient Descent\n",
    "\n",
    "In this notebook, we will find the solution for Linear Regression using Stochastic Gradient Descent\n"
   ],
   "metadata": {
    "collapsed": false
   },
   "id": "68f1e760e3f7e8b0"
  },
  {
   "cell_type": "code",
   "execution_count": 1,
   "outputs": [],
   "source": [
    "import numpy as np\n",
    "from dataset import X_train, X_test, y_train, y_test\n",
    "import matplotlib.pyplot as plt"
   ],
   "metadata": {
    "collapsed": false,
    "ExecuteTime": {
     "end_time": "2023-12-28T01:50:18.618848Z",
     "start_time": "2023-12-28T01:50:17.845375Z"
    }
   },
   "id": "30bdc2a3896af6fc"
  },
  {
   "cell_type": "markdown",
   "source": [
    "## Input augmentation\n",
    "\n",
    "Add a column of 1's to X_train and X_test"
   ],
   "metadata": {
    "collapsed": false
   },
   "id": "cb79e79e6c75b98e"
  },
  {
   "cell_type": "code",
   "execution_count": 2,
   "outputs": [],
   "source": [
    "# Add column to X_train and X_test\n",
    "X_train = np.hstack((np.ones(X_train.shape[0]).reshape(-1, 1), X_train))\n",
    "X_test = np.hstack((np.ones(X_test.shape[0]).reshape(-1, 1), X_test))"
   ],
   "metadata": {
    "collapsed": false,
    "ExecuteTime": {
     "end_time": "2023-12-28T01:50:19.321887Z",
     "start_time": "2023-12-28T01:50:19.317906Z"
    }
   },
   "id": "73f8f7d131ecd970"
  },
  {
   "cell_type": "markdown",
   "source": [
    "# Stochastic Gradient Descent"
   ],
   "metadata": {
    "collapsed": false
   },
   "id": "d0b56ca0dec7e38b"
  },
  {
   "cell_type": "code",
   "execution_count": 13,
   "outputs": [],
   "source": [
    "def make_prediction(X, w):\n",
    "    \"\"\"\n",
    "    Make prediction based on the test features\n",
    "    :param X: the augmented test features\n",
    "    :param w: the optimal parameter\n",
    "    :return: the predicted label\n",
    "    \"\"\"\n",
    "    return X @ w\n",
    "\n",
    "\n",
    "def find_w_sgd(X, y, learning_rate=1e-3, epochs=10):\n",
    "    \"\"\"\n",
    "    Find the solution of linear regression using Stochastic Gradient Descent\n",
    "    :param X: the augmented training features\n",
    "    :param y: the augmented training labels\n",
    "    :return: the optimal weight w\n",
    "    \"\"\"\n",
    "    # Initialize the w parameter\n",
    "    w = np.random.randn(X.shape[1])\n",
    "    \n",
    "    # Keep track of the cost function \n",
    "    cost = []\n",
    "    \n",
    "    # Go through epochs\n",
    "    for epoch in range(epochs):\n",
    "        # Shuffle X and y\n",
    "        random_indices = np.arange(X.shape[0])\n",
    "        np.random.shuffle(random_indices)\n",
    "        \n",
    "        # Go through training examples\n",
    "        for i in random_indices:\n",
    "            x_current, y_current = X[i], y[i]\n",
    "            w = w + learning_rate * (y_current - np.dot(w, x_current)) * x_current\n",
    "            \n",
    "        # Get the current cost\n",
    "        cost_current = (1 / (2 * X.shape[0])) * np.dot(y - X @ w, y - X @ w)\n",
    "        cost.append(cost_current)\n",
    "        \n",
    "        # Display the epoch\n",
    "        print(f\"EPOCH {epoch} - Cost {cost_current}\")\n",
    "        \n",
    "    return w, cost"
   ],
   "metadata": {
    "collapsed": false,
    "ExecuteTime": {
     "end_time": "2023-12-28T01:52:08.096023Z",
     "start_time": "2023-12-28T01:52:08.094195Z"
    }
   },
   "id": "dbf2c224d5956243"
  },
  {
   "cell_type": "code",
   "execution_count": 18,
   "outputs": [
    {
     "name": "stdout",
     "output_type": "stream",
     "text": [
      "EPOCH 0 - Cost 0.16303237410210306\n",
      "EPOCH 1 - Cost 0.015283134617454326\n",
      "EPOCH 2 - Cost 0.007380043918377731\n",
      "EPOCH 3 - Cost 0.00571570855747649\n",
      "EPOCH 4 - Cost 0.004950123887498106\n",
      "EPOCH 5 - Cost 0.004446111934456033\n",
      "EPOCH 6 - Cost 0.004026191308567216\n",
      "EPOCH 7 - Cost 0.0037070137293704016\n",
      "EPOCH 8 - Cost 0.0034435058653502076\n",
      "EPOCH 9 - Cost 0.003221710527575571\n",
      "EPOCH 10 - Cost 0.003043674891774892\n",
      "EPOCH 11 - Cost 0.0028925265625745597\n",
      "EPOCH 12 - Cost 0.0027583411907369237\n",
      "EPOCH 13 - Cost 0.002649050333113565\n",
      "EPOCH 14 - Cost 0.0025564011109547578\n",
      "EPOCH 15 - Cost 0.0024814667534145303\n",
      "EPOCH 16 - Cost 0.002416381516412879\n",
      "EPOCH 17 - Cost 0.0023693725224056793\n",
      "EPOCH 18 - Cost 0.0023198699816059554\n",
      "EPOCH 19 - Cost 0.0022804012743415296\n",
      "EPOCH 20 - Cost 0.002243977529956892\n",
      "EPOCH 21 - Cost 0.002236470372504968\n",
      "EPOCH 22 - Cost 0.0021961262505405905\n",
      "EPOCH 23 - Cost 0.002176417849570683\n",
      "EPOCH 24 - Cost 0.0021617521359433194\n",
      "EPOCH 25 - Cost 0.0021461129665415147\n",
      "EPOCH 26 - Cost 0.0021357963771687248\n",
      "EPOCH 27 - Cost 0.0021274392646580603\n",
      "EPOCH 28 - Cost 0.0021168923514905047\n",
      "EPOCH 29 - Cost 0.0021256561159409483\n",
      "EPOCH 30 - Cost 0.002107956467733985\n",
      "EPOCH 31 - Cost 0.002100894129708826\n",
      "EPOCH 32 - Cost 0.0020957859792239296\n",
      "EPOCH 33 - Cost 0.0020974184876371292\n",
      "EPOCH 34 - Cost 0.002089489670718266\n",
      "EPOCH 35 - Cost 0.0020873769008747144\n",
      "EPOCH 36 - Cost 0.002090959469092871\n",
      "EPOCH 37 - Cost 0.0020833925009273863\n",
      "EPOCH 38 - Cost 0.002083290327750601\n",
      "EPOCH 39 - Cost 0.00209086665401672\n",
      "EPOCH 40 - Cost 0.0020795241807117174\n",
      "EPOCH 41 - Cost 0.0020831597455739405\n",
      "EPOCH 42 - Cost 0.002080715679567698\n",
      "EPOCH 43 - Cost 0.0020858762224689113\n",
      "EPOCH 44 - Cost 0.0020800279578925534\n",
      "EPOCH 45 - Cost 0.002077202524462873\n",
      "EPOCH 46 - Cost 0.002076496276312776\n",
      "EPOCH 47 - Cost 0.0020791370866764997\n",
      "EPOCH 48 - Cost 0.0020774696843867476\n",
      "EPOCH 49 - Cost 0.0020749044658991307\n"
     ]
    }
   ],
   "source": [
    "# Find the analytical solution of w\n",
    "w_optimal, costs = find_w_sgd(X_train, y_train, epochs=50)"
   ],
   "metadata": {
    "collapsed": false,
    "ExecuteTime": {
     "end_time": "2023-12-28T01:53:06.427017Z",
     "start_time": "2023-12-28T01:53:06.181904Z"
    }
   },
   "id": "c910b19391dc8ff8"
  },
  {
   "cell_type": "code",
   "execution_count": 22,
   "outputs": [
    {
     "data": {
      "text/plain": "<Figure size 640x480 with 1 Axes>",
      "image/png": "[encoded data removed]"
     },
     "metadata": {},
     "output_type": "display_data"
    }
   ],
   "source": [
    "# Plot the cost value\n",
    "plt.plot(np.arange(len(costs)), costs)\n",
    "plt.xlabel(\"Epoch\")\n",
    "plt.ylabel(\"Cost\")\n",
    "plt.title(\"Training curve\")\n",
    "plt.show()"
   ],
   "metadata": {
    "collapsed": false,
    "ExecuteTime": {
     "end_time": "2023-12-28T01:54:57.602931Z",
     "start_time": "2023-12-28T01:54:57.518864Z"
    }
   },
   "id": "32405d94396be931"
  },
  {
   "cell_type": "code",
   "execution_count": 19,
   "outputs": [
    {
     "name": "stdout",
     "output_type": "stream",
     "text": [
      "MSE for training set: 0.0020749044658991307\n",
      "MSE for test set: 0.0021974374591202726\n"
     ]
    }
   ],
   "source": [
    "# Make prediction on training set and test set\n",
    "y_train_predicted = make_prediction(X_train, w_optimal)\n",
    "y_test_predicted = make_prediction(X_test, w_optimal)\n",
    "\n",
    "# Calculate the mean squared error\n",
    "mse_train = (1 / (2 * X_train.shape[0])) * np.dot(y_train - y_train_predicted, y_train - y_train_predicted)\n",
    "mse_test = (1 / (2 * X_test.shape[0])) * np.dot(y_test - y_test_predicted, y_test - y_test_predicted)\n",
    "\n",
    "# Display the MSE of the train and test set\n",
    "print(f\"MSE for training set: {mse_train}\")\n",
    "print(f\"MSE for test set: {mse_test}\")"
   ],
   "metadata": {
    "collapsed": false,
    "ExecuteTime": {
     "end_time": "2023-12-28T01:53:13.141557Z",
     "start_time": "2023-12-28T01:53:13.096261Z"
    }
   },
   "id": "24097707e01c0653"
  }
 ],
 "metadata": {
  "kernelspec": {
   "display_name": "Python 3",
   "language": "python",
   "name": "python3"
  },
  "language_info": {
   "codemirror_mode": {
    "name": "ipython",
    "version": 2
   },
   "file_extension": ".py",
   "mimetype": "text/x-python",
   "name": "python",
   "nbconvert_exporter": "python",
   "pygments_lexer": "ipython2",
   "version": "2.7.6"
  }
 },
 "nbformat": 4,
 "nbformat_minor": 5
}
