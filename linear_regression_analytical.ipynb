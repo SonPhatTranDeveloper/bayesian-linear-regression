{
 "cells": [
  {
   "cell_type": "markdown",
   "source": [
    "# Linear Regression with Analytic solution\n",
    "\n",
    "In this notebook, we will find the analytical solution for Linear Regression, with nonlinear basis functions."
   ],
   "metadata": {
    "collapsed": false
   },
   "id": "dd8510edc9a37db6"
  },
  {
   "cell_type": "code",
   "execution_count": 1,
   "outputs": [],
   "source": [
    "import numpy as np\n",
    "from dataset import X_train, X_test, y_train, y_test"
   ],
   "metadata": {
    "collapsed": false,
    "ExecuteTime": {
     "end_time": "2023-12-28T01:09:14.458089Z",
     "start_time": "2023-12-28T01:09:13.244587Z"
    }
   },
   "id": "18d569ade16c06e4"
  },
  {
   "cell_type": "markdown",
   "source": [
    "## Input augmentation\n",
    "\n",
    "Add a column of 1's to X_train and X_test"
   ],
   "metadata": {
    "collapsed": false
   },
   "id": "5e07382bf5d1b21c"
  },
  {
   "cell_type": "code",
   "execution_count": 3,
   "outputs": [],
   "source": [
    "# Add column to X_train and X_test\n",
    "X_train = np.hstack((np.ones(X_train.shape[0]).reshape(-1, 1), X_train))\n",
    "X_test = np.hstack((np.ones(X_test.shape[0]).reshape(-1, 1), X_test))"
   ],
   "metadata": {
    "collapsed": false,
    "ExecuteTime": {
     "end_time": "2023-12-28T01:13:01.724487Z",
     "start_time": "2023-12-28T01:13:01.720797Z"
    }
   },
   "id": "3c1ca209d582ba3f"
  },
  {
   "cell_type": "markdown",
   "source": [
    "# Find analytical solution"
   ],
   "metadata": {
    "collapsed": false
   },
   "id": "43f9ee79c8869089"
  },
  {
   "cell_type": "code",
   "execution_count": 8,
   "outputs": [],
   "source": [
    "def find_w_analytical(X, y):\n",
    "    \"\"\"\n",
    "    Find the analytical solution of linear regression\n",
    "    :param X: the augmented training features\n",
    "    :param y: the augmented training labels\n",
    "    :return: the optimal weight w\n",
    "    \"\"\"\n",
    "    # Find the solution to (X.T @ X) w = X^T y\n",
    "    w = np.linalg.solve(X.T @ X, X.T @ y)\n",
    "    return w\n",
    "\n",
    "def make_prediction(X, w):\n",
    "    \"\"\"\n",
    "    Make prediction based on the test features\n",
    "    :param X: the augmented test features\n",
    "    :param w: the optimal parameter\n",
    "    :return: the predicted label\n",
    "    \"\"\"\n",
    "    return X @ w"
   ],
   "metadata": {
    "collapsed": false,
    "ExecuteTime": {
     "end_time": "2023-12-28T01:24:05.924802Z",
     "start_time": "2023-12-28T01:24:05.921283Z"
    }
   },
   "id": "d1389130efcdc574"
  },
  {
   "cell_type": "code",
   "execution_count": 10,
   "outputs": [
    {
     "name": "stdout",
     "output_type": "stream",
     "text": [
      "MSE for training set: 0.0021246980206582333\n",
      "MSE for test set: 0.0017458727452898124\n"
     ]
    }
   ],
   "source": [
    "# Find the analytical solution of w\n",
    "w_optimal = find_w_analytical(X_train, y_train)\n",
    "\n",
    "# Make prediction on training set and test set\n",
    "y_train_predicted = make_prediction(X_train, w_optimal)\n",
    "y_test_predicted = make_prediction(X_test, w_optimal)\n",
    "\n",
    "# Calculate the mean squared error\n",
    "mse_train = (1 / (2 * X_train.shape[0])) * np.dot(y_train - y_train_predicted, y_train - y_train_predicted)\n",
    "mse_test = (1 / (2 * X_test.shape[0])) * np.dot(y_test - y_test_predicted, y_test - y_test_predicted)\n",
    "\n",
    "# Display the MSE of the train and test set\n",
    "print(f\"MSE for training set: {mse_train}\")\n",
    "print(f\"MSE for test set: {mse_test}\")"
   ],
   "metadata": {
    "collapsed": false,
    "ExecuteTime": {
     "end_time": "2023-12-28T01:24:38.195118Z",
     "start_time": "2023-12-28T01:24:38.179862Z"
    }
   },
   "id": "b653892fa783113b"
  }
 ],
 "metadata": {
  "kernelspec": {
   "display_name": "Python 3",
   "language": "python",
   "name": "python3"
  },
  "language_info": {
   "codemirror_mode": {
    "name": "ipython",
    "version": 2
   },
   "file_extension": ".py",
   "mimetype": "text/x-python",
   "name": "python",
   "nbconvert_exporter": "python",
   "pygments_lexer": "ipython2",
   "version": "2.7.6"
  }
 },
 "nbformat": 4,
 "nbformat_minor": 5
}
